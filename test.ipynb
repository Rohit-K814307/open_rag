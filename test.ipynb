{
 "cells": [
  {
   "cell_type": "code",
   "execution_count": 1,
   "metadata": {},
   "outputs": [],
   "source": [
    "%load_ext autoreload\n",
    "%autoreload 2"
   ]
  },
  {
   "cell_type": "code",
   "execution_count": 3,
   "metadata": {},
   "outputs": [
    {
     "name": "stdout",
     "output_type": "stream",
     "text": [
      "Initializing RAG data with 100 emails...\n"
     ]
    },
    {
     "data": {
      "text/plain": [
       "'Subject: Request for Extra Credit Opportunity - Math Class\\n\\nDear Mr. Madhavan,\\n\\nI hope this email finds you well. As per our previous conversation, I am writing to request an extra credit opportunity in your math class. I have decided to take a different approach this time and would like to know if that is acceptable. Could you please let me know if there are any specific guidelines or requirements for the extra credit work?\\n\\nThank you in advance for your understanding and support.\\n\\nBest regards,\\n[Your Name]'"
      ]
     },
     "execution_count": 3,
     "metadata": {},
     "output_type": "execute_result"
    }
   ],
   "source": [
    "from open_rag.utils.generation import generate_email\n",
    "\n",
    "generate_email(\"I want to write an email to my math teacher for extra credit\", \"/home/rohit/open_rag/open_rag/data/raw.CSV\", \"kulkarni.rohitva@gmail.com\")"
   ]
  }
 ],
 "metadata": {
  "kernelspec": {
   "display_name": "email-llm",
   "language": "python",
   "name": "python3"
  },
  "language_info": {
   "codemirror_mode": {
    "name": "ipython",
    "version": 3
   },
   "file_extension": ".py",
   "mimetype": "text/x-python",
   "name": "python",
   "nbconvert_exporter": "python",
   "pygments_lexer": "ipython3",
   "version": "3.12.2"
  }
 },
 "nbformat": 4,
 "nbformat_minor": 2
}
